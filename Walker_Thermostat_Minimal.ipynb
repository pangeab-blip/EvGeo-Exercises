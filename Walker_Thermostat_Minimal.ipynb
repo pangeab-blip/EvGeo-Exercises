{
  "cells": [
    {
      "cell_type": "markdown",
      "metadata": {},
      "source": [
        "# Walker Thermostat – Minimal Interactive Model\n",
        "\n",
        "Questo notebook implementa la forma classica del **termostato di Walker** (Walker, Hays & Kasting, 1981) in versione minimale:\n",
        "\n",
        "$$\\frac{W}{W_0} = \\left(\\frac{P}{P_0}\\right)^{\\beta} \\exp\\!\\left(\\frac{\\Delta T}{T_*}\\right)$$\n",
        "\n",
        "con accoppiamento climatico logaritmico:\n",
        "\n",
        "$$T = T_0 + \\Lambda\\,\\ln\\!\\left(\\frac{P}{P_0}\\right), \\quad \\Delta T = T - T_0 = \\Lambda\\,\\ln\\!\\left(\\frac{P}{P_0}\\right).$$\n",
        "\n",
        "Allo stato stazionario $F = W/W_0 = F_{out}/W_0$ e ne segue\n",
        "\n",
        "$$\\left(\\frac{P}{P_0}\\right)^{\\beta + \\Lambda/T_*} = F \\;\\Rightarrow\\; \\frac{P}{P_0} = F^{\\;1/(\\beta + \\Lambda/T_*)}, \\quad \\Delta T = \\Lambda\\,\\ln\\!\\left(F^{\\;1/(\\beta + \\Lambda/T_*)}\\right).$$\n",
        "\n",
        "Parametri controllabili:\n",
        "- **F** = $F_{out}/W_0$ (rapporto del degassamento al riferimento)\n",
        "- **β** (0.2–0.6 tipico)\n",
        "- **T\\*** in K (10–20 tipico)\n",
        "- **Sensibilità climatica per raddoppio** $S_{2x}$ in K; si usa $\\Lambda = S_{2x}/\\ln 2$.\n",
        "\n",
        "Il notebook permette di variare questi parametri e visualizzare:\\\n",
        "1) gli stati di equilibrio $(P/P_0, \\Delta T)$;\\\n",
        "2) la dipendenza di equilibrio al variare di F in un intervallo.\n"
      ]
    },
    {
      "cell_type": "code",
      "execution_count": 0,
      "metadata": {},
      "outputs": [],
      "source": [
        "#@title Interattivo: calcolo equilibrio e grafico\n",
        "import numpy as np\n",
        "import math\n",
        "import matplotlib.pyplot as plt\n",
        "from ipywidgets import interact, FloatSlider\n",
        "\n",
        "LN2 = math.log(2.0)\n",
        "\n",
        "def walker_equilibrium(F=1.0, beta=0.3, Tstar=13.7, S2x=3.0, F_min=0.5, F_max=1.5):\n",
        "    Lambda = S2x / LN2\n",
        "    expo = beta + (Lambda / Tstar)\n",
        "    if expo <= 0:\n",
        "        raise ValueError(\"beta + Lambda/T* deve essere > 0 per avere un equilibrio fisico.\")\n",
        "    P_ratio = F ** (1.0 / expo)\n",
        "    dT = Lambda * math.log(P_ratio)\n",
        "\n",
        "    Fs = np.linspace(F_min, F_max, 200)\n",
        "    P_eq = Fs ** (1.0 / expo)\n",
        "    dT_eq = Lambda * np.log(P_eq)\n",
        "\n",
        "    print(f\"Parametri: beta={beta:.3f}, T*={Tstar:.2f} K, S2x={S2x:.2f} K, Lambda={Lambda:.3f} K\")\n",
        "    print(f\"Equilibrio: P/P0 = {P_ratio:.3f},  ΔT = {dT:.3f} K  (F = {F:.3f})\")\n",
        "\n",
        "    plt.figure(figsize=(6,4))\n",
        "    plt.plot(Fs, dT_eq)\n",
        "    plt.xlabel('F = F_out / W0')\n",
        "    plt.ylabel('ΔT eq (K)')\n",
        "    plt.title('Walker thermostat: ΔT di equilibrio vs F')\n",
        "    # Evidenzia il punto corrente\n",
        "    plt.scatter([F], [dT], s=30)\n",
        "    plt.grid(True, which='both', linestyle=':')\n",
        "    plt.show()\n",
        "\n",
        "    return P_ratio, dT\n",
        "\n",
        "interact(\n",
        "    walker_equilibrium,\n",
        "    F=FloatSlider(value=1.0, min=0.5, max=1.5, step=0.01, description='F'),\n",
        "    beta=FloatSlider(value=0.3, min=0.2, max=0.6, step=0.01, description='beta'),\n",
        "    Tstar=FloatSlider(value=13.7, min=8.0, max=25.0, step=0.1, description='T* (K)'),\n",
        "    S2x=FloatSlider(value=3.0, min=1.5, max=6.0, step=0.1, description='S2x (K)'),\n",
        "    F_min=FloatSlider(value=0.5, min=0.1, max=0.9, step=0.01, description='F min'),\n",
        "    F_max=FloatSlider(value=1.5, min=1.1, max=3.0, step=0.01, description='F max'),\n",
        ")\n"
      ]
    },
    {
      "cell_type": "markdown",
      "metadata": {},
      "source": [
        "## Note tecniche\n",
        "\n",
        "La stabilità lineare locale dell'equilibrio richiede $\\beta + \\Lambda/T_* > 0$. Con parametri fisicamente ragionevoli (β > 0, T*>0, Λ>0) è soddisfatta. L'output ΔT è riferito allo stato $T_0$ e adotta una risposta logaritmica con sensibilità per raddoppio $S_{2x}$.\n"
      ]
    }
  ],
  "metadata": {
    "colab": {
      "provenance": []
    },
    "kernelspec": {
      "display_name": "Python 3",
      "language": "python",
      "name": "python3"
    },
    "language_info": {
      "name": "python"
    }
  },
  "nbformat": 4,
  "nbformat_minor": 5
}